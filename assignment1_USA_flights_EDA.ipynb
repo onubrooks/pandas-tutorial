{
  "cells": [
    {
      "cell_type": "markdown",
      "metadata": {
        "id": "view-in-github",
        "colab_type": "text"
      },
      "source": [
        "<a href=\"https://colab.research.google.com/github/onubrooks/pandas-tutorial/blob/master/assignment1_USA_flights_EDA.ipynb\" target=\"_parent\"><img src=\"https://colab.research.google.com/assets/colab-badge.svg\" alt=\"Open In Colab\"/></a>"
      ]
    },
    {
      "cell_type": "markdown",
      "metadata": {
        "id": "H122bmXJ3WQX"
      },
      "source": [
        "<a href='https://www.altschoolafrica.com/'> <h2> Python for Data Engineering </h2></a>\n",
        "\n",
        "\n",
        "# <center> CAPSTONE PROJECT 1 <br> \n",
        "\n",
        "## <center>Exploratory Data Analysis (EDA) of US flights <br> (using Pandas, Matplotlib & Seaborn)\n",
        "\n",
        "<img src='altschool.jpeg' width=50%>\n"
      ]
    },
    {
      "cell_type": "code",
      "execution_count": null,
      "metadata": {
        "id": "JQkxe8993WQZ"
      },
      "outputs": [],
      "source": [
        "import numpy as np\n",
        "import pandas as pd\n",
        "# pip install seaborn \n",
        "import seaborn as sns\n",
        "import matplotlib.pyplot as plt"
      ]
    },
    {
      "cell_type": "markdown",
      "metadata": {
        "id": "P9hu5xwi3WQa"
      },
      "source": [
        "Consider the following terms we use:\n",
        "* unique flight - a record (row) in the dataset\n",
        "* completed flight = flight that is not cancelled (Cancelled==0 in the dataset)\n",
        "* flight code - a combination of ['UniqueCarrier','FlightNum'], i.e.  UA52\n",
        "* airport code - a three letter airport alias from 'Origin or 'Dest' columns"
      ]
    },
    {
      "cell_type": "markdown",
      "metadata": {
        "id": "_KAXzRgO3WQa"
      },
      "source": [
        "**Reading data into memory and creating a Pandas ``DataFrame`` object**\n",
        "\n",
        "(This may take a while, be patient)\n",
        "\n",
        "We are not going to read in the whole dataset. In order to reduce memory footprint, we instead load only needed columns and cast them to suitable data types.\n",
        "\n",
        "Use this [link](https://dataverse.harvard.edu/api/access/datafile/:persistentId?persistentId=doi:10.7910/DVN/HG7NV7/EIR0RA) to download the dataset and add the path to below to load to pandas. \n",
        "\n",
        "Run all the cell to confirm everything is running and then attempt the questions"
      ]
    },
    {
      "cell_type": "code",
      "execution_count": null,
      "metadata": {
        "id": "39KfSa6j3WQa"
      },
      "outputs": [],
      "source": [
        "import numpy as np\n",
        "import pandas as pd\n",
        "import matplotlib.pyplot as plt\n",
        "import seaborn as sns\n",
        "import os\n",
        "%matplotlib inline"
      ]
    },
    {
      "cell_type": "code",
      "execution_count": null,
      "metadata": {
        "id": "osh5d7b53WQa"
      },
      "outputs": [],
      "source": [
        "dtype = {'DayOfWeek': np.uint8, 'DayofMonth': np.uint8, 'Month': np.uint8 , \n",
        "         'Cancelled': np.uint8, 'Year': np.uint16, 'FlightNum': np.uint16 , \n",
        "         'Distance': np.uint16, 'UniqueCarrier': str, 'CancellationCode': str, \n",
        "         'Origin': str, 'Dest': str, 'ArrDelay': np.float16, \n",
        "         'DepDelay': np.float16, 'CarrierDelay': np.float16, \n",
        "         'WeatherDelay': np.float16, 'NASDelay': np.float16, \n",
        "         'SecurityDelay': np.float16, 'LateAircraftDelay': np.float16, \n",
        "         'DepTime': np.float16}"
      ]
    },
    {
      "cell_type": "code",
      "execution_count": null,
      "metadata": {
        "colab": {
          "base_uri": "https://localhost:8080/"
        },
        "id": "cSXmZH0q3WQb",
        "outputId": "40e8f332-7a6c-4ae9-8ddb-517661a67868"
      },
      "outputs": [
        {
          "output_type": "stream",
          "name": "stdout",
          "text": [
            "CPU times: user 19.3 s, sys: 534 ms, total: 19.8 s\n",
            "Wall time: 19.9 s\n"
          ]
        }
      ],
      "source": [
        "%%time\n",
        "# change the path if needed\n",
        "path = \"/content/2008.csv.bz2\"\n",
        "flights_df = pd.read_csv(path, usecols=dtype.keys(), dtype=dtype)"
      ]
    },
    {
      "cell_type": "markdown",
      "metadata": {
        "id": "_6J3UbqU3WQc"
      },
      "source": [
        "**Check the number of rows and columns and print column names.**"
      ]
    },
    {
      "cell_type": "code",
      "execution_count": null,
      "metadata": {
        "colab": {
          "base_uri": "https://localhost:8080/"
        },
        "id": "8BRZR4FA3WQc",
        "outputId": "b54ca51d-3eaa-49a5-a284-18c71c7c83bf"
      },
      "outputs": [
        {
          "output_type": "stream",
          "name": "stdout",
          "text": [
            "(2389217, 19)\n",
            "Index(['Year', 'Month', 'DayofMonth', 'DayOfWeek', 'DepTime', 'UniqueCarrier',\n",
            "       'FlightNum', 'ArrDelay', 'DepDelay', 'Origin', 'Dest', 'Distance',\n",
            "       'Cancelled', 'CancellationCode', 'CarrierDelay', 'WeatherDelay',\n",
            "       'NASDelay', 'SecurityDelay', 'LateAircraftDelay'],\n",
            "      dtype='object')\n"
          ]
        }
      ],
      "source": [
        "print(flights_df.shape)\n",
        "print(flights_df.columns)"
      ]
    },
    {
      "cell_type": "markdown",
      "metadata": {
        "id": "m12uMFO23WQc"
      },
      "source": [
        "**Print first 5 rows of the dataset.**"
      ]
    },
    {
      "cell_type": "code",
      "execution_count": null,
      "metadata": {
        "colab": {
          "base_uri": "https://localhost:8080/",
          "height": 270
        },
        "id": "ihApb5Rt3WQc",
        "outputId": "05a03b3b-9bb3-41dd-b4d1-10c977139efd"
      },
      "outputs": [
        {
          "output_type": "execute_result",
          "data": {
            "text/plain": [
              "   Year  Month  DayofMonth  DayOfWeek  DepTime UniqueCarrier  FlightNum  \\\n",
              "0  2008      1           3          4   1343.0            WN        588   \n",
              "1  2008      1           3          4   1125.0            WN       1343   \n",
              "2  2008      1           3          4   2009.0            WN       3841   \n",
              "3  2008      1           3          4    903.0            WN          3   \n",
              "4  2008      1           3          4   1423.0            WN         25   \n",
              "\n",
              "   ArrDelay  DepDelay Origin Dest  Distance  Cancelled CancellationCode  \\\n",
              "0      16.0      18.0    HOU  LIT       393          0              NaN   \n",
              "1       2.0       5.0    HOU  MAF       441          0              NaN   \n",
              "2      -4.0      -6.0    HOU  MAF       441          0              NaN   \n",
              "3      -2.0       8.0    HOU  MCO       848          0              NaN   \n",
              "4      16.0      23.0    HOU  MCO       848          0              NaN   \n",
              "\n",
              "   CarrierDelay  WeatherDelay  NASDelay  SecurityDelay  LateAircraftDelay  \n",
              "0          16.0           0.0       0.0            0.0                0.0  \n",
              "1           NaN           NaN       NaN            NaN                NaN  \n",
              "2           NaN           NaN       NaN            NaN                NaN  \n",
              "3           NaN           NaN       NaN            NaN                NaN  \n",
              "4          16.0           0.0       0.0            0.0                0.0  "
            ],
            "text/html": [
              "\n",
              "  <div id=\"df-8127c275-cc0d-48f1-ae86-531b8d66de13\">\n",
              "    <div class=\"colab-df-container\">\n",
              "      <div>\n",
              "<style scoped>\n",
              "    .dataframe tbody tr th:only-of-type {\n",
              "        vertical-align: middle;\n",
              "    }\n",
              "\n",
              "    .dataframe tbody tr th {\n",
              "        vertical-align: top;\n",
              "    }\n",
              "\n",
              "    .dataframe thead th {\n",
              "        text-align: right;\n",
              "    }\n",
              "</style>\n",
              "<table border=\"1\" class=\"dataframe\">\n",
              "  <thead>\n",
              "    <tr style=\"text-align: right;\">\n",
              "      <th></th>\n",
              "      <th>Year</th>\n",
              "      <th>Month</th>\n",
              "      <th>DayofMonth</th>\n",
              "      <th>DayOfWeek</th>\n",
              "      <th>DepTime</th>\n",
              "      <th>UniqueCarrier</th>\n",
              "      <th>FlightNum</th>\n",
              "      <th>ArrDelay</th>\n",
              "      <th>DepDelay</th>\n",
              "      <th>Origin</th>\n",
              "      <th>Dest</th>\n",
              "      <th>Distance</th>\n",
              "      <th>Cancelled</th>\n",
              "      <th>CancellationCode</th>\n",
              "      <th>CarrierDelay</th>\n",
              "      <th>WeatherDelay</th>\n",
              "      <th>NASDelay</th>\n",
              "      <th>SecurityDelay</th>\n",
              "      <th>LateAircraftDelay</th>\n",
              "    </tr>\n",
              "  </thead>\n",
              "  <tbody>\n",
              "    <tr>\n",
              "      <th>0</th>\n",
              "      <td>2008</td>\n",
              "      <td>1</td>\n",
              "      <td>3</td>\n",
              "      <td>4</td>\n",
              "      <td>1343.0</td>\n",
              "      <td>WN</td>\n",
              "      <td>588</td>\n",
              "      <td>16.0</td>\n",
              "      <td>18.0</td>\n",
              "      <td>HOU</td>\n",
              "      <td>LIT</td>\n",
              "      <td>393</td>\n",
              "      <td>0</td>\n",
              "      <td>NaN</td>\n",
              "      <td>16.0</td>\n",
              "      <td>0.0</td>\n",
              "      <td>0.0</td>\n",
              "      <td>0.0</td>\n",
              "      <td>0.0</td>\n",
              "    </tr>\n",
              "    <tr>\n",
              "      <th>1</th>\n",
              "      <td>2008</td>\n",
              "      <td>1</td>\n",
              "      <td>3</td>\n",
              "      <td>4</td>\n",
              "      <td>1125.0</td>\n",
              "      <td>WN</td>\n",
              "      <td>1343</td>\n",
              "      <td>2.0</td>\n",
              "      <td>5.0</td>\n",
              "      <td>HOU</td>\n",
              "      <td>MAF</td>\n",
              "      <td>441</td>\n",
              "      <td>0</td>\n",
              "      <td>NaN</td>\n",
              "      <td>NaN</td>\n",
              "      <td>NaN</td>\n",
              "      <td>NaN</td>\n",
              "      <td>NaN</td>\n",
              "      <td>NaN</td>\n",
              "    </tr>\n",
              "    <tr>\n",
              "      <th>2</th>\n",
              "      <td>2008</td>\n",
              "      <td>1</td>\n",
              "      <td>3</td>\n",
              "      <td>4</td>\n",
              "      <td>2009.0</td>\n",
              "      <td>WN</td>\n",
              "      <td>3841</td>\n",
              "      <td>-4.0</td>\n",
              "      <td>-6.0</td>\n",
              "      <td>HOU</td>\n",
              "      <td>MAF</td>\n",
              "      <td>441</td>\n",
              "      <td>0</td>\n",
              "      <td>NaN</td>\n",
              "      <td>NaN</td>\n",
              "      <td>NaN</td>\n",
              "      <td>NaN</td>\n",
              "      <td>NaN</td>\n",
              "      <td>NaN</td>\n",
              "    </tr>\n",
              "    <tr>\n",
              "      <th>3</th>\n",
              "      <td>2008</td>\n",
              "      <td>1</td>\n",
              "      <td>3</td>\n",
              "      <td>4</td>\n",
              "      <td>903.0</td>\n",
              "      <td>WN</td>\n",
              "      <td>3</td>\n",
              "      <td>-2.0</td>\n",
              "      <td>8.0</td>\n",
              "      <td>HOU</td>\n",
              "      <td>MCO</td>\n",
              "      <td>848</td>\n",
              "      <td>0</td>\n",
              "      <td>NaN</td>\n",
              "      <td>NaN</td>\n",
              "      <td>NaN</td>\n",
              "      <td>NaN</td>\n",
              "      <td>NaN</td>\n",
              "      <td>NaN</td>\n",
              "    </tr>\n",
              "    <tr>\n",
              "      <th>4</th>\n",
              "      <td>2008</td>\n",
              "      <td>1</td>\n",
              "      <td>3</td>\n",
              "      <td>4</td>\n",
              "      <td>1423.0</td>\n",
              "      <td>WN</td>\n",
              "      <td>25</td>\n",
              "      <td>16.0</td>\n",
              "      <td>23.0</td>\n",
              "      <td>HOU</td>\n",
              "      <td>MCO</td>\n",
              "      <td>848</td>\n",
              "      <td>0</td>\n",
              "      <td>NaN</td>\n",
              "      <td>16.0</td>\n",
              "      <td>0.0</td>\n",
              "      <td>0.0</td>\n",
              "      <td>0.0</td>\n",
              "      <td>0.0</td>\n",
              "    </tr>\n",
              "  </tbody>\n",
              "</table>\n",
              "</div>\n",
              "      <button class=\"colab-df-convert\" onclick=\"convertToInteractive('df-8127c275-cc0d-48f1-ae86-531b8d66de13')\"\n",
              "              title=\"Convert this dataframe to an interactive table.\"\n",
              "              style=\"display:none;\">\n",
              "        \n",
              "  <svg xmlns=\"http://www.w3.org/2000/svg\" height=\"24px\"viewBox=\"0 0 24 24\"\n",
              "       width=\"24px\">\n",
              "    <path d=\"M0 0h24v24H0V0z\" fill=\"none\"/>\n",
              "    <path d=\"M18.56 5.44l.94 2.06.94-2.06 2.06-.94-2.06-.94-.94-2.06-.94 2.06-2.06.94zm-11 1L8.5 8.5l.94-2.06 2.06-.94-2.06-.94L8.5 2.5l-.94 2.06-2.06.94zm10 10l.94 2.06.94-2.06 2.06-.94-2.06-.94-.94-2.06-.94 2.06-2.06.94z\"/><path d=\"M17.41 7.96l-1.37-1.37c-.4-.4-.92-.59-1.43-.59-.52 0-1.04.2-1.43.59L10.3 9.45l-7.72 7.72c-.78.78-.78 2.05 0 2.83L4 21.41c.39.39.9.59 1.41.59.51 0 1.02-.2 1.41-.59l7.78-7.78 2.81-2.81c.8-.78.8-2.07 0-2.86zM5.41 20L4 18.59l7.72-7.72 1.47 1.35L5.41 20z\"/>\n",
              "  </svg>\n",
              "      </button>\n",
              "      \n",
              "  <style>\n",
              "    .colab-df-container {\n",
              "      display:flex;\n",
              "      flex-wrap:wrap;\n",
              "      gap: 12px;\n",
              "    }\n",
              "\n",
              "    .colab-df-convert {\n",
              "      background-color: #E8F0FE;\n",
              "      border: none;\n",
              "      border-radius: 50%;\n",
              "      cursor: pointer;\n",
              "      display: none;\n",
              "      fill: #1967D2;\n",
              "      height: 32px;\n",
              "      padding: 0 0 0 0;\n",
              "      width: 32px;\n",
              "    }\n",
              "\n",
              "    .colab-df-convert:hover {\n",
              "      background-color: #E2EBFA;\n",
              "      box-shadow: 0px 1px 2px rgba(60, 64, 67, 0.3), 0px 1px 3px 1px rgba(60, 64, 67, 0.15);\n",
              "      fill: #174EA6;\n",
              "    }\n",
              "\n",
              "    [theme=dark] .colab-df-convert {\n",
              "      background-color: #3B4455;\n",
              "      fill: #D2E3FC;\n",
              "    }\n",
              "\n",
              "    [theme=dark] .colab-df-convert:hover {\n",
              "      background-color: #434B5C;\n",
              "      box-shadow: 0px 1px 3px 1px rgba(0, 0, 0, 0.15);\n",
              "      filter: drop-shadow(0px 1px 2px rgba(0, 0, 0, 0.3));\n",
              "      fill: #FFFFFF;\n",
              "    }\n",
              "  </style>\n",
              "\n",
              "      <script>\n",
              "        const buttonEl =\n",
              "          document.querySelector('#df-8127c275-cc0d-48f1-ae86-531b8d66de13 button.colab-df-convert');\n",
              "        buttonEl.style.display =\n",
              "          google.colab.kernel.accessAllowed ? 'block' : 'none';\n",
              "\n",
              "        async function convertToInteractive(key) {\n",
              "          const element = document.querySelector('#df-8127c275-cc0d-48f1-ae86-531b8d66de13');\n",
              "          const dataTable =\n",
              "            await google.colab.kernel.invokeFunction('convertToInteractive',\n",
              "                                                     [key], {});\n",
              "          if (!dataTable) return;\n",
              "\n",
              "          const docLinkHtml = 'Like what you see? Visit the ' +\n",
              "            '<a target=\"_blank\" href=https://colab.research.google.com/notebooks/data_table.ipynb>data table notebook</a>'\n",
              "            + ' to learn more about interactive tables.';\n",
              "          element.innerHTML = '';\n",
              "          dataTable['output_type'] = 'display_data';\n",
              "          await google.colab.output.renderOutput(dataTable, element);\n",
              "          const docLink = document.createElement('div');\n",
              "          docLink.innerHTML = docLinkHtml;\n",
              "          element.appendChild(docLink);\n",
              "        }\n",
              "      </script>\n",
              "    </div>\n",
              "  </div>\n",
              "  "
            ]
          },
          "metadata": {},
          "execution_count": 19
        }
      ],
      "source": [
        "flights_df.head()"
      ]
    },
    {
      "cell_type": "markdown",
      "metadata": {
        "id": "6thEHlzy3WQc"
      },
      "source": [
        "**Transpose the frame to see all features at once.**"
      ]
    },
    {
      "cell_type": "code",
      "execution_count": null,
      "metadata": {
        "colab": {
          "base_uri": "https://localhost:8080/",
          "height": 645
        },
        "id": "Ctv_Uysw3WQc",
        "outputId": "4d7230df-9da2-4d56-ba17-fc1cdadf19a3"
      },
      "outputs": [
        {
          "output_type": "execute_result",
          "data": {
            "text/plain": [
              "                        0       1       2      3       4\n",
              "Year                 2008    2008    2008   2008    2008\n",
              "Month                   1       1       1      1       1\n",
              "DayofMonth              3       3       3      3       3\n",
              "DayOfWeek               4       4       4      4       4\n",
              "DepTime            1343.0  1125.0  2009.0  903.0  1423.0\n",
              "UniqueCarrier          WN      WN      WN     WN      WN\n",
              "FlightNum             588    1343    3841      3      25\n",
              "ArrDelay             16.0     2.0    -4.0   -2.0    16.0\n",
              "DepDelay             18.0     5.0    -6.0    8.0    23.0\n",
              "Origin                HOU     HOU     HOU    HOU     HOU\n",
              "Dest                  LIT     MAF     MAF    MCO     MCO\n",
              "Distance              393     441     441    848     848\n",
              "Cancelled               0       0       0      0       0\n",
              "CancellationCode      NaN     NaN     NaN    NaN     NaN\n",
              "CarrierDelay         16.0     NaN     NaN    NaN    16.0\n",
              "WeatherDelay          0.0     NaN     NaN    NaN     0.0\n",
              "NASDelay              0.0     NaN     NaN    NaN     0.0\n",
              "SecurityDelay         0.0     NaN     NaN    NaN     0.0\n",
              "LateAircraftDelay     0.0     NaN     NaN    NaN     0.0"
            ],
            "text/html": [
              "\n",
              "  <div id=\"df-58400263-0b51-4f12-a90d-f85f9b169dfe\">\n",
              "    <div class=\"colab-df-container\">\n",
              "      <div>\n",
              "<style scoped>\n",
              "    .dataframe tbody tr th:only-of-type {\n",
              "        vertical-align: middle;\n",
              "    }\n",
              "\n",
              "    .dataframe tbody tr th {\n",
              "        vertical-align: top;\n",
              "    }\n",
              "\n",
              "    .dataframe thead th {\n",
              "        text-align: right;\n",
              "    }\n",
              "</style>\n",
              "<table border=\"1\" class=\"dataframe\">\n",
              "  <thead>\n",
              "    <tr style=\"text-align: right;\">\n",
              "      <th></th>\n",
              "      <th>0</th>\n",
              "      <th>1</th>\n",
              "      <th>2</th>\n",
              "      <th>3</th>\n",
              "      <th>4</th>\n",
              "    </tr>\n",
              "  </thead>\n",
              "  <tbody>\n",
              "    <tr>\n",
              "      <th>Year</th>\n",
              "      <td>2008</td>\n",
              "      <td>2008</td>\n",
              "      <td>2008</td>\n",
              "      <td>2008</td>\n",
              "      <td>2008</td>\n",
              "    </tr>\n",
              "    <tr>\n",
              "      <th>Month</th>\n",
              "      <td>1</td>\n",
              "      <td>1</td>\n",
              "      <td>1</td>\n",
              "      <td>1</td>\n",
              "      <td>1</td>\n",
              "    </tr>\n",
              "    <tr>\n",
              "      <th>DayofMonth</th>\n",
              "      <td>3</td>\n",
              "      <td>3</td>\n",
              "      <td>3</td>\n",
              "      <td>3</td>\n",
              "      <td>3</td>\n",
              "    </tr>\n",
              "    <tr>\n",
              "      <th>DayOfWeek</th>\n",
              "      <td>4</td>\n",
              "      <td>4</td>\n",
              "      <td>4</td>\n",
              "      <td>4</td>\n",
              "      <td>4</td>\n",
              "    </tr>\n",
              "    <tr>\n",
              "      <th>DepTime</th>\n",
              "      <td>1343.0</td>\n",
              "      <td>1125.0</td>\n",
              "      <td>2009.0</td>\n",
              "      <td>903.0</td>\n",
              "      <td>1423.0</td>\n",
              "    </tr>\n",
              "    <tr>\n",
              "      <th>UniqueCarrier</th>\n",
              "      <td>WN</td>\n",
              "      <td>WN</td>\n",
              "      <td>WN</td>\n",
              "      <td>WN</td>\n",
              "      <td>WN</td>\n",
              "    </tr>\n",
              "    <tr>\n",
              "      <th>FlightNum</th>\n",
              "      <td>588</td>\n",
              "      <td>1343</td>\n",
              "      <td>3841</td>\n",
              "      <td>3</td>\n",
              "      <td>25</td>\n",
              "    </tr>\n",
              "    <tr>\n",
              "      <th>ArrDelay</th>\n",
              "      <td>16.0</td>\n",
              "      <td>2.0</td>\n",
              "      <td>-4.0</td>\n",
              "      <td>-2.0</td>\n",
              "      <td>16.0</td>\n",
              "    </tr>\n",
              "    <tr>\n",
              "      <th>DepDelay</th>\n",
              "      <td>18.0</td>\n",
              "      <td>5.0</td>\n",
              "      <td>-6.0</td>\n",
              "      <td>8.0</td>\n",
              "      <td>23.0</td>\n",
              "    </tr>\n",
              "    <tr>\n",
              "      <th>Origin</th>\n",
              "      <td>HOU</td>\n",
              "      <td>HOU</td>\n",
              "      <td>HOU</td>\n",
              "      <td>HOU</td>\n",
              "      <td>HOU</td>\n",
              "    </tr>\n",
              "    <tr>\n",
              "      <th>Dest</th>\n",
              "      <td>LIT</td>\n",
              "      <td>MAF</td>\n",
              "      <td>MAF</td>\n",
              "      <td>MCO</td>\n",
              "      <td>MCO</td>\n",
              "    </tr>\n",
              "    <tr>\n",
              "      <th>Distance</th>\n",
              "      <td>393</td>\n",
              "      <td>441</td>\n",
              "      <td>441</td>\n",
              "      <td>848</td>\n",
              "      <td>848</td>\n",
              "    </tr>\n",
              "    <tr>\n",
              "      <th>Cancelled</th>\n",
              "      <td>0</td>\n",
              "      <td>0</td>\n",
              "      <td>0</td>\n",
              "      <td>0</td>\n",
              "      <td>0</td>\n",
              "    </tr>\n",
              "    <tr>\n",
              "      <th>CancellationCode</th>\n",
              "      <td>NaN</td>\n",
              "      <td>NaN</td>\n",
              "      <td>NaN</td>\n",
              "      <td>NaN</td>\n",
              "      <td>NaN</td>\n",
              "    </tr>\n",
              "    <tr>\n",
              "      <th>CarrierDelay</th>\n",
              "      <td>16.0</td>\n",
              "      <td>NaN</td>\n",
              "      <td>NaN</td>\n",
              "      <td>NaN</td>\n",
              "      <td>16.0</td>\n",
              "    </tr>\n",
              "    <tr>\n",
              "      <th>WeatherDelay</th>\n",
              "      <td>0.0</td>\n",
              "      <td>NaN</td>\n",
              "      <td>NaN</td>\n",
              "      <td>NaN</td>\n",
              "      <td>0.0</td>\n",
              "    </tr>\n",
              "    <tr>\n",
              "      <th>NASDelay</th>\n",
              "      <td>0.0</td>\n",
              "      <td>NaN</td>\n",
              "      <td>NaN</td>\n",
              "      <td>NaN</td>\n",
              "      <td>0.0</td>\n",
              "    </tr>\n",
              "    <tr>\n",
              "      <th>SecurityDelay</th>\n",
              "      <td>0.0</td>\n",
              "      <td>NaN</td>\n",
              "      <td>NaN</td>\n",
              "      <td>NaN</td>\n",
              "      <td>0.0</td>\n",
              "    </tr>\n",
              "    <tr>\n",
              "      <th>LateAircraftDelay</th>\n",
              "      <td>0.0</td>\n",
              "      <td>NaN</td>\n",
              "      <td>NaN</td>\n",
              "      <td>NaN</td>\n",
              "      <td>0.0</td>\n",
              "    </tr>\n",
              "  </tbody>\n",
              "</table>\n",
              "</div>\n",
              "      <button class=\"colab-df-convert\" onclick=\"convertToInteractive('df-58400263-0b51-4f12-a90d-f85f9b169dfe')\"\n",
              "              title=\"Convert this dataframe to an interactive table.\"\n",
              "              style=\"display:none;\">\n",
              "        \n",
              "  <svg xmlns=\"http://www.w3.org/2000/svg\" height=\"24px\"viewBox=\"0 0 24 24\"\n",
              "       width=\"24px\">\n",
              "    <path d=\"M0 0h24v24H0V0z\" fill=\"none\"/>\n",
              "    <path d=\"M18.56 5.44l.94 2.06.94-2.06 2.06-.94-2.06-.94-.94-2.06-.94 2.06-2.06.94zm-11 1L8.5 8.5l.94-2.06 2.06-.94-2.06-.94L8.5 2.5l-.94 2.06-2.06.94zm10 10l.94 2.06.94-2.06 2.06-.94-2.06-.94-.94-2.06-.94 2.06-2.06.94z\"/><path d=\"M17.41 7.96l-1.37-1.37c-.4-.4-.92-.59-1.43-.59-.52 0-1.04.2-1.43.59L10.3 9.45l-7.72 7.72c-.78.78-.78 2.05 0 2.83L4 21.41c.39.39.9.59 1.41.59.51 0 1.02-.2 1.41-.59l7.78-7.78 2.81-2.81c.8-.78.8-2.07 0-2.86zM5.41 20L4 18.59l7.72-7.72 1.47 1.35L5.41 20z\"/>\n",
              "  </svg>\n",
              "      </button>\n",
              "      \n",
              "  <style>\n",
              "    .colab-df-container {\n",
              "      display:flex;\n",
              "      flex-wrap:wrap;\n",
              "      gap: 12px;\n",
              "    }\n",
              "\n",
              "    .colab-df-convert {\n",
              "      background-color: #E8F0FE;\n",
              "      border: none;\n",
              "      border-radius: 50%;\n",
              "      cursor: pointer;\n",
              "      display: none;\n",
              "      fill: #1967D2;\n",
              "      height: 32px;\n",
              "      padding: 0 0 0 0;\n",
              "      width: 32px;\n",
              "    }\n",
              "\n",
              "    .colab-df-convert:hover {\n",
              "      background-color: #E2EBFA;\n",
              "      box-shadow: 0px 1px 2px rgba(60, 64, 67, 0.3), 0px 1px 3px 1px rgba(60, 64, 67, 0.15);\n",
              "      fill: #174EA6;\n",
              "    }\n",
              "\n",
              "    [theme=dark] .colab-df-convert {\n",
              "      background-color: #3B4455;\n",
              "      fill: #D2E3FC;\n",
              "    }\n",
              "\n",
              "    [theme=dark] .colab-df-convert:hover {\n",
              "      background-color: #434B5C;\n",
              "      box-shadow: 0px 1px 3px 1px rgba(0, 0, 0, 0.15);\n",
              "      filter: drop-shadow(0px 1px 2px rgba(0, 0, 0, 0.3));\n",
              "      fill: #FFFFFF;\n",
              "    }\n",
              "  </style>\n",
              "\n",
              "      <script>\n",
              "        const buttonEl =\n",
              "          document.querySelector('#df-58400263-0b51-4f12-a90d-f85f9b169dfe button.colab-df-convert');\n",
              "        buttonEl.style.display =\n",
              "          google.colab.kernel.accessAllowed ? 'block' : 'none';\n",
              "\n",
              "        async function convertToInteractive(key) {\n",
              "          const element = document.querySelector('#df-58400263-0b51-4f12-a90d-f85f9b169dfe');\n",
              "          const dataTable =\n",
              "            await google.colab.kernel.invokeFunction('convertToInteractive',\n",
              "                                                     [key], {});\n",
              "          if (!dataTable) return;\n",
              "\n",
              "          const docLinkHtml = 'Like what you see? Visit the ' +\n",
              "            '<a target=\"_blank\" href=https://colab.research.google.com/notebooks/data_table.ipynb>data table notebook</a>'\n",
              "            + ' to learn more about interactive tables.';\n",
              "          element.innerHTML = '';\n",
              "          dataTable['output_type'] = 'display_data';\n",
              "          await google.colab.output.renderOutput(dataTable, element);\n",
              "          const docLink = document.createElement('div');\n",
              "          docLink.innerHTML = docLinkHtml;\n",
              "          element.appendChild(docLink);\n",
              "        }\n",
              "      </script>\n",
              "    </div>\n",
              "  </div>\n",
              "  "
            ]
          },
          "metadata": {},
          "execution_count": 20
        }
      ],
      "source": [
        "flights_df.head().T"
      ]
    },
    {
      "cell_type": "markdown",
      "metadata": {
        "id": "BIdE7hoY3WQd"
      },
      "source": [
        "**Examine data types of all features and total dataframe size in memory.**"
      ]
    },
    {
      "cell_type": "code",
      "execution_count": null,
      "metadata": {
        "id": "C84ujwiG3WQd"
      },
      "outputs": [],
      "source": [
        "miss_percent = 100 * (flights_df.isnull().sum()/len(flights_df))"
      ]
    },
    {
      "cell_type": "code",
      "execution_count": null,
      "metadata": {
        "id": "GnBSUueN3WQd",
        "outputId": "14c125b3-9e9e-4441-e6f6-5b9dc930c7a5"
      },
      "outputs": [
        {
          "data": {
            "text/plain": [
              "Year                  0.000000\n",
              "Month                 0.000000\n",
              "DayofMonth            0.000000\n",
              "DayOfWeek             0.000000\n",
              "DepTime               2.697202\n",
              "UniqueCarrier         0.000000\n",
              "FlightNum             0.000000\n",
              "ArrDelay              2.933848\n",
              "DepDelay              2.697202\n",
              "Origin                0.000000\n",
              "Dest                  0.000000\n",
              "Distance              0.000000\n",
              "Cancelled             0.000000\n",
              "CancellationCode     97.302798\n",
              "CarrierDelay         75.532444\n",
              "WeatherDelay         75.532444\n",
              "NASDelay             75.532444\n",
              "SecurityDelay        75.532444\n",
              "LateAircraftDelay    75.532444\n",
              "dtype: float64"
            ]
          },
          "execution_count": 9,
          "metadata": {},
          "output_type": "execute_result"
        }
      ],
      "source": [
        "miss_percent"
      ]
    },
    {
      "cell_type": "markdown",
      "metadata": {
        "id": "iOfhCORo3WQd"
      },
      "source": [
        "**Get basic statistics of each feature.**"
      ]
    },
    {
      "cell_type": "code",
      "execution_count": null,
      "metadata": {
        "id": "u_DC3JIT3WQd",
        "outputId": "d3ae754a-09d1-4c2b-f3b6-14869fba443f"
      },
      "outputs": [
        {
          "data": {
            "text/html": [
              "<div>\n",
              "<style scoped>\n",
              "    .dataframe tbody tr th:only-of-type {\n",
              "        vertical-align: middle;\n",
              "    }\n",
              "\n",
              "    .dataframe tbody tr th {\n",
              "        vertical-align: top;\n",
              "    }\n",
              "\n",
              "    .dataframe thead th {\n",
              "        text-align: right;\n",
              "    }\n",
              "</style>\n",
              "<table border=\"1\" class=\"dataframe\">\n",
              "  <thead>\n",
              "    <tr style=\"text-align: right;\">\n",
              "      <th></th>\n",
              "      <th>count</th>\n",
              "      <th>mean</th>\n",
              "      <th>std</th>\n",
              "      <th>min</th>\n",
              "      <th>25%</th>\n",
              "      <th>50%</th>\n",
              "      <th>75%</th>\n",
              "      <th>max</th>\n",
              "    </tr>\n",
              "  </thead>\n",
              "  <tbody>\n",
              "    <tr>\n",
              "      <th>Year</th>\n",
              "      <td>7009728.0</td>\n",
              "      <td>2008.000000</td>\n",
              "      <td>0.000000</td>\n",
              "      <td>2008.0</td>\n",
              "      <td>2008.0</td>\n",
              "      <td>2008.0</td>\n",
              "      <td>2008.0</td>\n",
              "      <td>2008.0</td>\n",
              "    </tr>\n",
              "    <tr>\n",
              "      <th>Month</th>\n",
              "      <td>7009728.0</td>\n",
              "      <td>6.375130</td>\n",
              "      <td>3.406737</td>\n",
              "      <td>1.0</td>\n",
              "      <td>3.0</td>\n",
              "      <td>6.0</td>\n",
              "      <td>9.0</td>\n",
              "      <td>12.0</td>\n",
              "    </tr>\n",
              "    <tr>\n",
              "      <th>DayofMonth</th>\n",
              "      <td>7009728.0</td>\n",
              "      <td>15.728015</td>\n",
              "      <td>8.797068</td>\n",
              "      <td>1.0</td>\n",
              "      <td>8.0</td>\n",
              "      <td>16.0</td>\n",
              "      <td>23.0</td>\n",
              "      <td>31.0</td>\n",
              "    </tr>\n",
              "    <tr>\n",
              "      <th>DayOfWeek</th>\n",
              "      <td>7009728.0</td>\n",
              "      <td>3.924182</td>\n",
              "      <td>1.988259</td>\n",
              "      <td>1.0</td>\n",
              "      <td>2.0</td>\n",
              "      <td>4.0</td>\n",
              "      <td>6.0</td>\n",
              "      <td>7.0</td>\n",
              "    </tr>\n",
              "    <tr>\n",
              "      <th>DepTime</th>\n",
              "      <td>6873482.0</td>\n",
              "      <td>NaN</td>\n",
              "      <td>NaN</td>\n",
              "      <td>1.0</td>\n",
              "      <td>928.0</td>\n",
              "      <td>1325.0</td>\n",
              "      <td>1728.0</td>\n",
              "      <td>2400.0</td>\n",
              "    </tr>\n",
              "    <tr>\n",
              "      <th>FlightNum</th>\n",
              "      <td>7009728.0</td>\n",
              "      <td>2224.200105</td>\n",
              "      <td>1961.715999</td>\n",
              "      <td>1.0</td>\n",
              "      <td>622.0</td>\n",
              "      <td>1571.0</td>\n",
              "      <td>3518.0</td>\n",
              "      <td>9743.0</td>\n",
              "    </tr>\n",
              "    <tr>\n",
              "      <th>ArrDelay</th>\n",
              "      <td>6855029.0</td>\n",
              "      <td>NaN</td>\n",
              "      <td>NaN</td>\n",
              "      <td>-519.0</td>\n",
              "      <td>-10.0</td>\n",
              "      <td>-2.0</td>\n",
              "      <td>12.0</td>\n",
              "      <td>2460.0</td>\n",
              "    </tr>\n",
              "    <tr>\n",
              "      <th>DepDelay</th>\n",
              "      <td>6873482.0</td>\n",
              "      <td>NaN</td>\n",
              "      <td>NaN</td>\n",
              "      <td>-534.0</td>\n",
              "      <td>-4.0</td>\n",
              "      <td>-1.0</td>\n",
              "      <td>8.0</td>\n",
              "      <td>2468.0</td>\n",
              "    </tr>\n",
              "    <tr>\n",
              "      <th>Distance</th>\n",
              "      <td>7009728.0</td>\n",
              "      <td>726.387029</td>\n",
              "      <td>562.101803</td>\n",
              "      <td>11.0</td>\n",
              "      <td>325.0</td>\n",
              "      <td>581.0</td>\n",
              "      <td>954.0</td>\n",
              "      <td>4962.0</td>\n",
              "    </tr>\n",
              "    <tr>\n",
              "      <th>Cancelled</th>\n",
              "      <td>7009728.0</td>\n",
              "      <td>0.019606</td>\n",
              "      <td>0.138643</td>\n",
              "      <td>0.0</td>\n",
              "      <td>0.0</td>\n",
              "      <td>0.0</td>\n",
              "      <td>0.0</td>\n",
              "      <td>1.0</td>\n",
              "    </tr>\n",
              "    <tr>\n",
              "      <th>CarrierDelay</th>\n",
              "      <td>1524735.0</td>\n",
              "      <td>NaN</td>\n",
              "      <td>NaN</td>\n",
              "      <td>0.0</td>\n",
              "      <td>0.0</td>\n",
              "      <td>0.0</td>\n",
              "      <td>16.0</td>\n",
              "      <td>2436.0</td>\n",
              "    </tr>\n",
              "    <tr>\n",
              "      <th>WeatherDelay</th>\n",
              "      <td>1524735.0</td>\n",
              "      <td>NaN</td>\n",
              "      <td>NaN</td>\n",
              "      <td>0.0</td>\n",
              "      <td>0.0</td>\n",
              "      <td>0.0</td>\n",
              "      <td>0.0</td>\n",
              "      <td>1352.0</td>\n",
              "    </tr>\n",
              "    <tr>\n",
              "      <th>NASDelay</th>\n",
              "      <td>1524735.0</td>\n",
              "      <td>NaN</td>\n",
              "      <td>NaN</td>\n",
              "      <td>0.0</td>\n",
              "      <td>0.0</td>\n",
              "      <td>6.0</td>\n",
              "      <td>21.0</td>\n",
              "      <td>1357.0</td>\n",
              "    </tr>\n",
              "    <tr>\n",
              "      <th>SecurityDelay</th>\n",
              "      <td>1524735.0</td>\n",
              "      <td>NaN</td>\n",
              "      <td>NaN</td>\n",
              "      <td>0.0</td>\n",
              "      <td>0.0</td>\n",
              "      <td>0.0</td>\n",
              "      <td>0.0</td>\n",
              "      <td>392.0</td>\n",
              "    </tr>\n",
              "    <tr>\n",
              "      <th>LateAircraftDelay</th>\n",
              "      <td>1524735.0</td>\n",
              "      <td>NaN</td>\n",
              "      <td>NaN</td>\n",
              "      <td>0.0</td>\n",
              "      <td>0.0</td>\n",
              "      <td>0.0</td>\n",
              "      <td>26.0</td>\n",
              "      <td>1316.0</td>\n",
              "    </tr>\n",
              "  </tbody>\n",
              "</table>\n",
              "</div>"
            ],
            "text/plain": [
              "                       count         mean          std     min     25%  \\\n",
              "Year               7009728.0  2008.000000     0.000000  2008.0  2008.0   \n",
              "Month              7009728.0     6.375130     3.406737     1.0     3.0   \n",
              "DayofMonth         7009728.0    15.728015     8.797068     1.0     8.0   \n",
              "DayOfWeek          7009728.0     3.924182     1.988259     1.0     2.0   \n",
              "DepTime            6873482.0          NaN          NaN     1.0   928.0   \n",
              "FlightNum          7009728.0  2224.200105  1961.715999     1.0   622.0   \n",
              "ArrDelay           6855029.0          NaN          NaN  -519.0   -10.0   \n",
              "DepDelay           6873482.0          NaN          NaN  -534.0    -4.0   \n",
              "Distance           7009728.0   726.387029   562.101803    11.0   325.0   \n",
              "Cancelled          7009728.0     0.019606     0.138643     0.0     0.0   \n",
              "CarrierDelay       1524735.0          NaN          NaN     0.0     0.0   \n",
              "WeatherDelay       1524735.0          NaN          NaN     0.0     0.0   \n",
              "NASDelay           1524735.0          NaN          NaN     0.0     0.0   \n",
              "SecurityDelay      1524735.0          NaN          NaN     0.0     0.0   \n",
              "LateAircraftDelay  1524735.0          NaN          NaN     0.0     0.0   \n",
              "\n",
              "                      50%     75%     max  \n",
              "Year               2008.0  2008.0  2008.0  \n",
              "Month                 6.0     9.0    12.0  \n",
              "DayofMonth           16.0    23.0    31.0  \n",
              "DayOfWeek             4.0     6.0     7.0  \n",
              "DepTime            1325.0  1728.0  2400.0  \n",
              "FlightNum          1571.0  3518.0  9743.0  \n",
              "ArrDelay             -2.0    12.0  2460.0  \n",
              "DepDelay             -1.0     8.0  2468.0  \n",
              "Distance            581.0   954.0  4962.0  \n",
              "Cancelled             0.0     0.0     1.0  \n",
              "CarrierDelay          0.0    16.0  2436.0  \n",
              "WeatherDelay          0.0     0.0  1352.0  \n",
              "NASDelay              6.0    21.0  1357.0  \n",
              "SecurityDelay         0.0     0.0   392.0  \n",
              "LateAircraftDelay     0.0    26.0  1316.0  "
            ]
          },
          "execution_count": 8,
          "metadata": {},
          "output_type": "execute_result"
        }
      ],
      "source": [
        "flights_df.describe().T"
      ]
    },
    {
      "cell_type": "markdown",
      "metadata": {
        "id": "xlVMyT9R3WQd"
      },
      "source": [
        "**Count unique Carriers and plot their relative share of flights:**"
      ]
    },
    {
      "cell_type": "code",
      "execution_count": null,
      "metadata": {
        "id": "wF5M-32D3WQd",
        "outputId": "c454b177-f9bc-4b73-d196-c4e986b4b23e"
      },
      "outputs": [
        {
          "data": {
            "text/plain": [
              "20"
            ]
          },
          "execution_count": 70,
          "metadata": {},
          "output_type": "execute_result"
        }
      ],
      "source": [
        "flights_df['UniqueCarrier'].nunique()"
      ]
    },
    {
      "cell_type": "code",
      "execution_count": null,
      "metadata": {
        "id": "dKNimVeB3WQd",
        "outputId": "7e0c7b66-b649-49a7-a465-3809539cb9ff"
      },
      "outputs": [
        {
          "data": {
            "text/plain": [
              "UniqueCarrier\n",
              "WN    1201754\n",
              "AA     604885\n",
              "OO     567159\n",
              "MQ     490693\n",
              "US     453589\n",
              "DL     451931\n",
              "UA     449515\n",
              "XE     374510\n",
              "NW     347652\n",
              "CO     298455\n",
              "EV     280575\n",
              "9E     262208\n",
              "FL     261684\n",
              "YV     254930\n",
              "OH     197607\n",
              "B6     196091\n",
              "AS     151102\n",
              "F9      95762\n",
              "HA      61826\n",
              "AQ       7800\n",
              "dtype: int64"
            ]
          },
          "execution_count": 72,
          "metadata": {},
          "output_type": "execute_result"
        }
      ],
      "source": [
        "flights_df.groupby('UniqueCarrier').size().sort_values(ascending=False)"
      ]
    },
    {
      "cell_type": "code",
      "execution_count": null,
      "metadata": {
        "scrolled": true,
        "id": "0evrWZeh3WQe",
        "outputId": "a691a465-4484-4750-e80f-51c9021c8c35"
      },
      "outputs": [
        {
          "data": {
            "image/png": "[encoded data removed]",
            "text/plain": [
              "<Figure size 432x288 with 1 Axes>"
            ]
          },
          "metadata": {
            "needs_background": "light"
          },
          "output_type": "display_data"
        }
      ],
      "source": [
        "flights_df.groupby('UniqueCarrier').size().plot(kind='bar');"
      ]
    },
    {
      "cell_type": "markdown",
      "metadata": {
        "id": "nZG4eYfq3WQe"
      },
      "source": [
        "**We can also _group by_ category/categories in order to calculate different aggregated statistics.**\n",
        "\n",
        "**For example, finding top-3 flight codes, that have the largest total distance travelled in year 2008.**"
      ]
    },
    {
      "cell_type": "code",
      "execution_count": null,
      "metadata": {
        "id": "noIDPnwO3WQe",
        "outputId": "8f657667-8de7-4ffc-8697-1e3459a5deed"
      },
      "outputs": [
        {
          "data": {
            "text/plain": [
              "UniqueCarrier  FlightNum\n",
              "CO             15           1796244.0\n",
              "               14           1796244.0\n",
              "UA             52           1789722.0\n",
              "Name: Distance, dtype: float64"
            ]
          },
          "execution_count": 11,
          "metadata": {},
          "output_type": "execute_result"
        }
      ],
      "source": [
        "flights_df.groupby(['UniqueCarrier','FlightNum'])['Distance'].sum().sort_values(\n",
        "    ascending=False).iloc[:3]"
      ]
    },
    {
      "cell_type": "markdown",
      "metadata": {
        "id": "ct9Y9TNI3WQe"
      },
      "source": [
        "**Another way:**"
      ]
    },
    {
      "cell_type": "code",
      "execution_count": null,
      "metadata": {
        "id": "BF8nMnli3WQe",
        "outputId": "9c80abe8-f436-4544-dfa9-1005b58459de"
      },
      "outputs": [
        {
          "data": {
            "text/html": [
              "<div>\n",
              "<style scoped>\n",
              "    .dataframe tbody tr th:only-of-type {\n",
              "        vertical-align: middle;\n",
              "    }\n",
              "\n",
              "    .dataframe tbody tr th {\n",
              "        vertical-align: top;\n",
              "    }\n",
              "\n",
              "    .dataframe thead tr th {\n",
              "        text-align: left;\n",
              "    }\n",
              "\n",
              "    .dataframe thead tr:last-of-type th {\n",
              "        text-align: right;\n",
              "    }\n",
              "</style>\n",
              "<table border=\"1\" class=\"dataframe\">\n",
              "  <thead>\n",
              "    <tr>\n",
              "      <th></th>\n",
              "      <th></th>\n",
              "      <th colspan=\"3\" halign=\"left\">Distance</th>\n",
              "      <th>Cancelled</th>\n",
              "    </tr>\n",
              "    <tr>\n",
              "      <th></th>\n",
              "      <th></th>\n",
              "      <th>mean</th>\n",
              "      <th>sum</th>\n",
              "      <th>count</th>\n",
              "      <th>sum</th>\n",
              "    </tr>\n",
              "    <tr>\n",
              "      <th>UniqueCarrier</th>\n",
              "      <th>FlightNum</th>\n",
              "      <th></th>\n",
              "      <th></th>\n",
              "      <th></th>\n",
              "      <th></th>\n",
              "    </tr>\n",
              "  </thead>\n",
              "  <tbody>\n",
              "    <tr>\n",
              "      <th rowspan=\"2\" valign=\"top\">CO</th>\n",
              "      <th>15</th>\n",
              "      <td>4962.000000</td>\n",
              "      <td>1796244.0</td>\n",
              "      <td>362</td>\n",
              "      <td>0</td>\n",
              "    </tr>\n",
              "    <tr>\n",
              "      <th>14</th>\n",
              "      <td>4962.000000</td>\n",
              "      <td>1796244.0</td>\n",
              "      <td>362</td>\n",
              "      <td>0</td>\n",
              "    </tr>\n",
              "    <tr>\n",
              "      <th>UA</th>\n",
              "      <th>52</th>\n",
              "      <td>2465.181818</td>\n",
              "      <td>1789722.0</td>\n",
              "      <td>726</td>\n",
              "      <td>8</td>\n",
              "    </tr>\n",
              "  </tbody>\n",
              "</table>\n",
              "</div>"
            ],
            "text/plain": [
              "                            Distance                  Cancelled\n",
              "                                mean        sum count       sum\n",
              "UniqueCarrier FlightNum                                        \n",
              "CO            15         4962.000000  1796244.0   362         0\n",
              "              14         4962.000000  1796244.0   362         0\n",
              "UA            52         2465.181818  1789722.0   726         8"
            ]
          },
          "execution_count": 12,
          "metadata": {},
          "output_type": "execute_result"
        }
      ],
      "source": [
        "flights_df.groupby(['UniqueCarrier','FlightNum'])\\\n",
        "  .agg({'Distance': [np.mean, np.sum, 'count'],\n",
        "        'Cancelled': np.sum})\\\n",
        "  .sort_values(('Distance', 'sum'), ascending=False)\\\n",
        "  .iloc[0:3]"
      ]
    },
    {
      "cell_type": "markdown",
      "metadata": {
        "id": "VnUkewHE3WQe"
      },
      "source": [
        "**Number of flights by days of week and months:**"
      ]
    },
    {
      "cell_type": "code",
      "execution_count": null,
      "metadata": {
        "id": "9uqSEgsI3WQe",
        "outputId": "3275034f-947d-4f21-eb3e-28acefa4cdcf"
      },
      "outputs": [
        {
          "data": {
            "text/html": [
              "<div>\n",
              "<style scoped>\n",
              "    .dataframe tbody tr th:only-of-type {\n",
              "        vertical-align: middle;\n",
              "    }\n",
              "\n",
              "    .dataframe tbody tr th {\n",
              "        vertical-align: top;\n",
              "    }\n",
              "\n",
              "    .dataframe thead th {\n",
              "        text-align: right;\n",
              "    }\n",
              "</style>\n",
              "<table border=\"1\" class=\"dataframe\">\n",
              "  <thead>\n",
              "    <tr style=\"text-align: right;\">\n",
              "      <th>DayOfWeek</th>\n",
              "      <th>1</th>\n",
              "      <th>2</th>\n",
              "      <th>3</th>\n",
              "      <th>4</th>\n",
              "      <th>5</th>\n",
              "      <th>6</th>\n",
              "      <th>7</th>\n",
              "    </tr>\n",
              "    <tr>\n",
              "      <th>Month</th>\n",
              "      <th></th>\n",
              "      <th></th>\n",
              "      <th></th>\n",
              "      <th></th>\n",
              "      <th></th>\n",
              "      <th></th>\n",
              "      <th></th>\n",
              "    </tr>\n",
              "  </thead>\n",
              "  <tbody>\n",
              "    <tr>\n",
              "      <th>1</th>\n",
              "      <td>80807</td>\n",
              "      <td>97298</td>\n",
              "      <td>100080</td>\n",
              "      <td>102043</td>\n",
              "      <td>81940</td>\n",
              "      <td>67178</td>\n",
              "      <td>76419</td>\n",
              "    </tr>\n",
              "    <tr>\n",
              "      <th>2</th>\n",
              "      <td>81504</td>\n",
              "      <td>79700</td>\n",
              "      <td>80587</td>\n",
              "      <td>82158</td>\n",
              "      <td>102726</td>\n",
              "      <td>66462</td>\n",
              "      <td>76099</td>\n",
              "    </tr>\n",
              "    <tr>\n",
              "      <th>3</th>\n",
              "      <td>103210</td>\n",
              "      <td>81159</td>\n",
              "      <td>82307</td>\n",
              "      <td>82831</td>\n",
              "      <td>82936</td>\n",
              "      <td>86153</td>\n",
              "      <td>97494</td>\n",
              "    </tr>\n",
              "    <tr>\n",
              "      <th>4</th>\n",
              "      <td>82463</td>\n",
              "      <td>100785</td>\n",
              "      <td>102586</td>\n",
              "      <td>82799</td>\n",
              "      <td>82964</td>\n",
              "      <td>68304</td>\n",
              "      <td>78225</td>\n",
              "    </tr>\n",
              "    <tr>\n",
              "      <th>5</th>\n",
              "      <td>80626</td>\n",
              "      <td>79884</td>\n",
              "      <td>81264</td>\n",
              "      <td>102572</td>\n",
              "      <td>102878</td>\n",
              "      <td>84493</td>\n",
              "      <td>74576</td>\n",
              "    </tr>\n",
              "    <tr>\n",
              "      <th>6</th>\n",
              "      <td>104168</td>\n",
              "      <td>82160</td>\n",
              "      <td>82902</td>\n",
              "      <td>83617</td>\n",
              "      <td>83930</td>\n",
              "      <td>72322</td>\n",
              "      <td>99566</td>\n",
              "    </tr>\n",
              "    <tr>\n",
              "      <th>7</th>\n",
              "      <td>84095</td>\n",
              "      <td>103429</td>\n",
              "      <td>103315</td>\n",
              "      <td>105035</td>\n",
              "      <td>79349</td>\n",
              "      <td>72219</td>\n",
              "      <td>80489</td>\n",
              "    </tr>\n",
              "    <tr>\n",
              "      <th>8</th>\n",
              "      <td>82983</td>\n",
              "      <td>80895</td>\n",
              "      <td>81773</td>\n",
              "      <td>82625</td>\n",
              "      <td>103878</td>\n",
              "      <td>86155</td>\n",
              "      <td>93970</td>\n",
              "    </tr>\n",
              "    <tr>\n",
              "      <th>9</th>\n",
              "      <td>94300</td>\n",
              "      <td>91533</td>\n",
              "      <td>74057</td>\n",
              "      <td>75589</td>\n",
              "      <td>75881</td>\n",
              "      <td>58343</td>\n",
              "      <td>71205</td>\n",
              "    </tr>\n",
              "    <tr>\n",
              "      <th>10</th>\n",
              "      <td>75131</td>\n",
              "      <td>72195</td>\n",
              "      <td>91900</td>\n",
              "      <td>94123</td>\n",
              "      <td>93894</td>\n",
              "      <td>58168</td>\n",
              "      <td>70794</td>\n",
              "    </tr>\n",
              "    <tr>\n",
              "      <th>11</th>\n",
              "      <td>74214</td>\n",
              "      <td>72443</td>\n",
              "      <td>73653</td>\n",
              "      <td>68071</td>\n",
              "      <td>70484</td>\n",
              "      <td>76031</td>\n",
              "      <td>88376</td>\n",
              "    </tr>\n",
              "    <tr>\n",
              "      <th>12</th>\n",
              "      <td>92700</td>\n",
              "      <td>90568</td>\n",
              "      <td>85241</td>\n",
              "      <td>70761</td>\n",
              "      <td>74306</td>\n",
              "      <td>61708</td>\n",
              "      <td>69674</td>\n",
              "    </tr>\n",
              "  </tbody>\n",
              "</table>\n",
              "</div>"
            ],
            "text/plain": [
              "DayOfWeek       1       2       3       4       5      6      7\n",
              "Month                                                          \n",
              "1           80807   97298  100080  102043   81940  67178  76419\n",
              "2           81504   79700   80587   82158  102726  66462  76099\n",
              "3          103210   81159   82307   82831   82936  86153  97494\n",
              "4           82463  100785  102586   82799   82964  68304  78225\n",
              "5           80626   79884   81264  102572  102878  84493  74576\n",
              "6          104168   82160   82902   83617   83930  72322  99566\n",
              "7           84095  103429  103315  105035   79349  72219  80489\n",
              "8           82983   80895   81773   82625  103878  86155  93970\n",
              "9           94300   91533   74057   75589   75881  58343  71205\n",
              "10          75131   72195   91900   94123   93894  58168  70794\n",
              "11          74214   72443   73653   68071   70484  76031  88376\n",
              "12          92700   90568   85241   70761   74306  61708  69674"
            ]
          },
          "execution_count": 13,
          "metadata": {},
          "output_type": "execute_result"
        }
      ],
      "source": [
        "pd.crosstab(flights_df.Month, flights_df.DayOfWeek)"
      ]
    },
    {
      "cell_type": "markdown",
      "metadata": {
        "id": "LltuqpO23WQf"
      },
      "source": [
        "**It can also be handy to color such tables in order to easily notice outliers:**"
      ]
    },
    {
      "cell_type": "code",
      "execution_count": null,
      "metadata": {
        "scrolled": true,
        "id": "XR_gSd0r3WQf",
        "outputId": "72eb29a3-4773-42f8-da22-a9d160211305"
      },
      "outputs": [
        {
          "data": {
            "image/png": "[encoded data removed]",
            "text/plain": [
              "<Figure size 432x288 with 1 Axes>"
            ]
          },
          "metadata": {
            "needs_background": "light"
          },
          "output_type": "display_data"
        }
      ],
      "source": [
        "plt.imshow(pd.crosstab(flights_df.Month, flights_df.DayOfWeek),\n",
        "           cmap='seismic', interpolation='none');"
      ]
    },
    {
      "cell_type": "markdown",
      "metadata": {
        "id": "-sXio7Bf3WQf"
      },
      "source": [
        "**Flight distance histogram:**"
      ]
    },
    {
      "cell_type": "code",
      "execution_count": null,
      "metadata": {
        "scrolled": false,
        "id": "NkPNy2wl3WQf",
        "outputId": "6bcd5250-28ef-4128-ae75-fa753768d0e2"
      },
      "outputs": [
        {
          "data": {
            "image/png": "[encoded data removed]",
            "text/plain": [
              "<Figure size 432x288 with 1 Axes>"
            ]
          },
          "metadata": {
            "needs_background": "light"
          },
          "output_type": "display_data"
        }
      ],
      "source": [
        "flights_df.hist('Distance', bins=20);"
      ]
    },
    {
      "cell_type": "markdown",
      "metadata": {
        "id": "ceUdMoE83WQf"
      },
      "source": [
        "**Making a histogram of flight frequency by date.**"
      ]
    },
    {
      "cell_type": "code",
      "execution_count": null,
      "metadata": {
        "id": "TT3WfEoU3WQf"
      },
      "outputs": [],
      "source": [
        "flights_df['Date'] = pd.to_datetime(flights_df.rename(\n",
        "    columns={'DayofMonth': 'Day'})[['Year', 'Month', 'Day']])"
      ]
    },
    {
      "cell_type": "code",
      "execution_count": null,
      "metadata": {
        "id": "emSfQUXy3WQf"
      },
      "outputs": [],
      "source": [
        "num_flights_by_date = flights_df.groupby('Date').size()"
      ]
    },
    {
      "cell_type": "code",
      "execution_count": null,
      "metadata": {
        "scrolled": true,
        "id": "T6OE-0_a3WQf",
        "outputId": "c5f7821b-5fe7-481b-f325-5e81b2ad5a38"
      },
      "outputs": [
        {
          "data": {
            "text/plain": [
              "<matplotlib.axes._subplots.AxesSubplot at 0xe994514048>"
            ]
          },
          "execution_count": 28,
          "metadata": {},
          "output_type": "execute_result"
        },
        {
          "data": {
            "image/png": "[encoded data removed]",
            "text/plain": [
              "<Figure size 432x288 with 1 Axes>"
            ]
          },
          "metadata": {
            "needs_background": "light"
          },
          "output_type": "display_data"
        }
      ],
      "source": [
        "num_flights_by_date.plot()"
      ]
    },
    {
      "cell_type": "markdown",
      "metadata": {
        "id": "s7oo3FYW3WQf"
      },
      "source": [
        "**Do you see a weekly pattern above? And below?**"
      ]
    },
    {
      "cell_type": "code",
      "execution_count": null,
      "metadata": {
        "id": "xHrDa5hl3WQg"
      },
      "outputs": [],
      "source": []
    },
    {
      "cell_type": "markdown",
      "metadata": {
        "id": "Ak_T_MO23WQg"
      },
      "source": [
        "### Now it's your turn. Answer the questions below.\n",
        "\n",
        "##### The next 20 questions is going to be very tasking so get ready, but don't worry it's easy"
      ]
    },
    {
      "cell_type": "markdown",
      "metadata": {
        "id": "qC26W21g3WQj"
      },
      "source": [
        "That's it! Now go and do 30 push-ups! :). You are now a guru in Data Manipulation and Analysis with Python"
      ]
    },
    {
      "cell_type": "code",
      "source": [],
      "metadata": {
        "id": "42XzyxQPsPJX"
      },
      "execution_count": null,
      "outputs": []
    },
    {
      "cell_type": "code",
      "execution_count": null,
      "metadata": {
        "id": "qF0ev09F3WQj"
      },
      "outputs": [],
      "source": []
    }
  ],
  "metadata": {
    "anaconda-cloud": {},
    "kernelspec": {
      "display_name": "Python 3",
      "language": "python",
      "name": "python3"
    },
    "language_info": {
      "codemirror_mode": {
        "name": "ipython",
        "version": 3
      },
      "file_extension": ".py",
      "mimetype": "text/x-python",
      "name": "python",
      "nbconvert_exporter": "python",
      "pygments_lexer": "ipython3",
      "version": "3.8.8"
    },
    "colab": {
      "provenance": [],
      "include_colab_link": true
    }
  },
  "nbformat": 4,
  "nbformat_minor": 0
}